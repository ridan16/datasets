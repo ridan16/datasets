{
  "nbformat": 4,
  "nbformat_minor": 0,
  "metadata": {
    "colab": {
      "provenance": [],
      "authorship_tag": "ABX9TyOLY6XUSW02oVFUuCSrZBUH",
      "include_colab_link": true
    },
    "kernelspec": {
      "name": "ir",
      "display_name": "R"
    },
    "language_info": {
      "name": "R"
    }
  },
  "cells": [
    {
      "cell_type": "markdown",
      "metadata": {
        "id": "view-in-github",
        "colab_type": "text"
      },
      "source": [
        "<a href=\"https://colab.research.google.com/github/ridan16/datasets/blob/master/Untitled3.ipynb\" target=\"_parent\"><img src=\"https://colab.research.google.com/assets/colab-badge.svg\" alt=\"Open In Colab\"/></a>"
      ]
    },
    {
      "cell_type": "code",
      "execution_count": 1,
      "metadata": {
        "id": "_UBF2ha5DSQ8"
      },
      "outputs": [],
      "source": [
        "set.seed(1)"
      ]
    },
    {
      "cell_type": "code",
      "source": [
        "a <- rnorm(100, 1)"
      ],
      "metadata": {
        "id": "s5voTfxODsHH"
      },
      "execution_count": 2,
      "outputs": []
    },
    {
      "cell_type": "code",
      "source": [
        "a.ts <- ts(a, st=c(1995, 1), fr = 12)"
      ],
      "metadata": {
        "id": "olwvf9kWDwPE"
      },
      "execution_count": 5,
      "outputs": []
    },
    {
      "cell_type": "code",
      "source": [],
      "metadata": {
        "id": "Srea4oY4ERkH"
      },
      "execution_count": null,
      "outputs": []
    }
  ]
}